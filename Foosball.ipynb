{
 "cells": [
  {
   "cell_type": "code",
   "execution_count": 4,
   "metadata": {},
   "outputs": [],
   "source": [
    "import pandas as pd\n",
    "import trueskill\n",
    "from trueskill import Rating \n",
    "import numpy as np\n",
    "import matplotlib.pyplot as pyplot\n",
    "\n"
   ]
  },
  {
   "cell_type": "code",
   "execution_count": 5,
   "metadata": {},
   "outputs": [],
   "source": [
    "data = pd.read_csv(\"/home/kmisiunas/Data/cavendish_foosball_data - Cavendish foosball doubles.csv\", index_col=0)\n"
   ]
  },
  {
   "cell_type": "code",
   "execution_count": 7,
   "metadata": {},
   "outputs": [],
   "source": [
    "player_names = np.unique( np.concatenate([ \n",
    "    data[\"Blue attack\"].unique() ,\n",
    "    data[\"Blue defense\"].unique() ,\n",
    "    data[\"Red attack\"].unique() ,\n",
    "    data[\"Red defense\"].unique() ,\n",
    "               ]) )\n"
   ]
  },
  {
   "cell_type": "code",
   "execution_count": 8,
   "metadata": {},
   "outputs": [],
   "source": [
    "env = trueskill.TrueSkill()\n",
    "\n",
    "players = { p: Rating() for p in player_names}\n"
   ]
  },
  {
   "cell_type": "code",
   "execution_count": 38,
   "metadata": {},
   "outputs": [],
   "source": [
    "# methods for produsing index for Nik\n",
    "\n",
    "def record_state(time) -> dict:\n",
    "    out = {\"Date\": time}\n",
    "    for p in players:\n",
    "        out.update( {(p + \"_mu\") : players[p].mu} )\n",
    "        out.update( {(p + \"_sigma\") : players[p].sigma} )\n",
    "        out.update( {(p + \"_score\") :players[p].mu - 3*players[p].sigma} )\n",
    "    \n",
    "    return out"
   ]
  },
  {
   "cell_type": "code",
   "execution_count": 48,
   "metadata": {},
   "outputs": [],
   "source": [
    "score_by_time = []\n",
    "\n",
    "for i in range(len(data)):\n",
    "    \n",
    "    if data.iloc[i][\"Blue score\"] > data.iloc[i][\"Red score\"]:\n",
    "        rank = [0,1]\n",
    "    else:\n",
    "        rank = [1,0]\n",
    "        \n",
    "    p1, p2, p3, p4 = [data[\"Blue defense\"].iloc[i], data[\"Blue attack\"].iloc[i], data[\"Red defense\"].iloc[i], data[\"Red attack\"].iloc[i]] \n",
    "    sel = [(players[p1], players[p2]) ,(players[p3], players[p4])] \n",
    "    [(players[p1], players[p2]) ,(players[p3], players[p4])]  =  env.rate(sel, ranks=rank)\n",
    "    \n",
    "    # populate DataFrame for nik's display methods \n",
    "    score_by_time.append( record_state(data.index[i]) )\n",
    "    \n",
    "score_by_time = pd.DataFrame(score_by_time).set_index(\"Date\")\n"
   ]
  },
  {
   "cell_type": "code",
   "execution_count": 6,
   "metadata": {},
   "outputs": [
    {
     "name": "stdout",
     "output_type": "stream",
     "text": [
      "Name      | Mu    | Sigma | Score\n",
      "=================================\n",
      "Alex      | 29.24 | 1.33  | 25.25\n",
      "Jeff      | 18.19 | 1.98  | 12.25\n",
      "Jehangir  | 26.73 | 1.66  | 21.77\n",
      "Kareem    | 28.68 | 1.22  | 25.02\n",
      "Karolis   | 24.53 | 1.37  | 20.40\n",
      "Kurt      | 16.71 | 4.38  | 3.56\n",
      "Michael   | 23.67 | 1.35  | 19.61\n",
      "Nik       | 24.29 | 1.44  | 19.97\n",
      "Ryan      | 20.80 | 5.43  | 4.53\n",
      "Ulrich    | 22.84 | 1.74  | 17.61\n",
      "Vlad      | 24.88 | 1.33  | 20.88\n"
     ]
    }
   ],
   "source": [
    "print(\"{0:10}| {1:5} | {2:5} | {3:5}\".format(\"Name\", \"Mu\", \"Sigma\", \"Score\"))\n",
    "print(\"=================================\")\n",
    "\n",
    "for p in players:\n",
    "    print(\"{0:10}| {1:02.2f} | {2:02.2f}  | {3:02.2f}\".format(p, players[p].mu, players[p].sigma, players[p].mu - 3*players[p].sigma))"
   ]
  },
  {
   "cell_type": "code",
   "execution_count": 9,
   "metadata": {},
   "outputs": [],
   "source": [
    "res = []\n",
    "for p in players.keys():\n",
    "    res.append({'Player': p, \n",
    "              'mu':    players[p].mu, \n",
    "              'sigma': players[p].sigma, \n",
    "              'score': players[p].mu - 3*players[p].sigma})\n",
    "\n",
    "rating =  pd.DataFrame(res)\n",
    "\n"
   ]
  },
  {
   "cell_type": "code",
   "execution_count": 10,
   "metadata": {},
   "outputs": [
    {
     "data": {
      "text/html": [
       "<div>\n",
       "<style scoped>\n",
       "    .dataframe tbody tr th:only-of-type {\n",
       "        vertical-align: middle;\n",
       "    }\n",
       "\n",
       "    .dataframe tbody tr th {\n",
       "        vertical-align: top;\n",
       "    }\n",
       "\n",
       "    .dataframe thead th {\n",
       "        text-align: right;\n",
       "    }\n",
       "</style>\n",
       "<table border=\"1\" class=\"dataframe\">\n",
       "  <thead>\n",
       "    <tr style=\"text-align: right;\">\n",
       "      <th></th>\n",
       "      <th>Player</th>\n",
       "      <th>mu</th>\n",
       "      <th>score</th>\n",
       "      <th>sigma</th>\n",
       "    </tr>\n",
       "  </thead>\n",
       "  <tbody>\n",
       "    <tr>\n",
       "      <th>0</th>\n",
       "      <td>Alex</td>\n",
       "      <td>29.235359</td>\n",
       "      <td>25.249606</td>\n",
       "      <td>1.328584</td>\n",
       "    </tr>\n",
       "    <tr>\n",
       "      <th>3</th>\n",
       "      <td>Kareem</td>\n",
       "      <td>28.679555</td>\n",
       "      <td>25.020568</td>\n",
       "      <td>1.219662</td>\n",
       "    </tr>\n",
       "    <tr>\n",
       "      <th>2</th>\n",
       "      <td>Jehangir</td>\n",
       "      <td>26.732929</td>\n",
       "      <td>21.767685</td>\n",
       "      <td>1.655081</td>\n",
       "    </tr>\n",
       "    <tr>\n",
       "      <th>10</th>\n",
       "      <td>Vlad</td>\n",
       "      <td>24.877359</td>\n",
       "      <td>20.881805</td>\n",
       "      <td>1.331851</td>\n",
       "    </tr>\n",
       "    <tr>\n",
       "      <th>4</th>\n",
       "      <td>Karolis</td>\n",
       "      <td>24.525284</td>\n",
       "      <td>20.403436</td>\n",
       "      <td>1.373949</td>\n",
       "    </tr>\n",
       "    <tr>\n",
       "      <th>7</th>\n",
       "      <td>Nik</td>\n",
       "      <td>24.294901</td>\n",
       "      <td>19.969765</td>\n",
       "      <td>1.441712</td>\n",
       "    </tr>\n",
       "    <tr>\n",
       "      <th>6</th>\n",
       "      <td>Michael</td>\n",
       "      <td>23.673046</td>\n",
       "      <td>19.610785</td>\n",
       "      <td>1.354087</td>\n",
       "    </tr>\n",
       "    <tr>\n",
       "      <th>9</th>\n",
       "      <td>Ulrich</td>\n",
       "      <td>22.841504</td>\n",
       "      <td>17.613108</td>\n",
       "      <td>1.742799</td>\n",
       "    </tr>\n",
       "    <tr>\n",
       "      <th>1</th>\n",
       "      <td>Jeff</td>\n",
       "      <td>18.194506</td>\n",
       "      <td>12.250233</td>\n",
       "      <td>1.981424</td>\n",
       "    </tr>\n",
       "    <tr>\n",
       "      <th>8</th>\n",
       "      <td>Ryan</td>\n",
       "      <td>20.802562</td>\n",
       "      <td>4.526882</td>\n",
       "      <td>5.425227</td>\n",
       "    </tr>\n",
       "    <tr>\n",
       "      <th>5</th>\n",
       "      <td>Kurt</td>\n",
       "      <td>16.705109</td>\n",
       "      <td>3.556002</td>\n",
       "      <td>4.383036</td>\n",
       "    </tr>\n",
       "  </tbody>\n",
       "</table>\n",
       "</div>"
      ],
      "text/plain": [
       "      Player         mu      score     sigma\n",
       "0       Alex  29.235359  25.249606  1.328584\n",
       "3     Kareem  28.679555  25.020568  1.219662\n",
       "2   Jehangir  26.732929  21.767685  1.655081\n",
       "10      Vlad  24.877359  20.881805  1.331851\n",
       "4    Karolis  24.525284  20.403436  1.373949\n",
       "7        Nik  24.294901  19.969765  1.441712\n",
       "6    Michael  23.673046  19.610785  1.354087\n",
       "9     Ulrich  22.841504  17.613108  1.742799\n",
       "1       Jeff  18.194506  12.250233  1.981424\n",
       "8       Ryan  20.802562   4.526882  5.425227\n",
       "5       Kurt  16.705109   3.556002  4.383036"
      ]
     },
     "execution_count": 10,
     "metadata": {},
     "output_type": "execute_result"
    }
   ],
   "source": [
    "rating.sort_values('score',ascending=False)\n"
   ]
  },
  {
   "cell_type": "markdown",
   "metadata": {},
   "source": [
    "---\n",
    "\n",
    "# Winning probabilities "
   ]
  },
  {
   "cell_type": "code",
   "execution_count": 11,
   "metadata": {},
   "outputs": [],
   "source": [
    "import itertools\n",
    "import math\n",
    "\n",
    "BETA=4.166\n",
    "\n",
    "def win_probability(team1, team2):\n",
    "    delta_mu = sum(r.mu for r in team1) - sum(r.mu for r in team2)\n",
    "    sum_sigma = sum(r.sigma ** 2 for r in itertools.chain(team1, team2))\n",
    "    size = len(team1) + len(team2)\n",
    "    denom = math.sqrt(size * (BETA * BETA) + sum_sigma)\n",
    "    ts = trueskill.global_env()\n",
    "    return ts.cdf(delta_mu / denom)"
   ]
  },
  {
   "cell_type": "code",
   "execution_count": 12,
   "metadata": {},
   "outputs": [
    {
     "data": {
      "text/plain": [
       "0.13409465817080782"
      ]
     },
     "execution_count": 12,
     "metadata": {},
     "output_type": "execute_result"
    }
   ],
   "source": [
    "win_probability( \n",
    "    team1 = [players[\"Ulrich\"], players[\"Michael\"]] , \n",
    "    team2 = [players[\"Alex\"], players[\"Kareem\"]] \n",
    ")"
   ]
  },
  {
   "cell_type": "code",
   "execution_count": null,
   "metadata": {},
   "outputs": [],
   "source": []
  }
 ],
 "metadata": {
  "kernelspec": {
   "display_name": "Python 3",
   "language": "python",
   "name": "python3"
  },
  "language_info": {
   "codemirror_mode": {
    "name": "ipython",
    "version": 3
   },
   "file_extension": ".py",
   "mimetype": "text/x-python",
   "name": "python",
   "nbconvert_exporter": "python",
   "pygments_lexer": "ipython3",
   "version": "3.6.4"
  }
 },
 "nbformat": 4,
 "nbformat_minor": 2
}
