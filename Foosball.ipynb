{
 "cells": [
  {
   "cell_type": "code",
   "execution_count": 59,
   "metadata": {},
   "outputs": [],
   "source": [
    "import pandas as pd\n",
    "import trueskill\n",
    "from trueskill import Rating \n",
    "import numpy as np\n",
    "import matplotlib.pyplot as pyplot"
   ]
  },
  {
   "cell_type": "code",
   "execution_count": 8,
   "metadata": {},
   "outputs": [],
   "source": [
    "data = pd.read_csv(\"/home/kmisiunas/Data/cavendish_foosball_data - Cavendish foosball doubles.csv\", index_col=0)\n"
   ]
  },
  {
   "cell_type": "code",
   "execution_count": 29,
   "metadata": {},
   "outputs": [],
   "source": [
    "player_names = np.unique( np.concatenate([ \n",
    "    data[\"Blue attack\"].unique() ,\n",
    "    data[\"Blue defense\"].unique() ,\n",
    "    data[\"Red attack\"].unique() ,\n",
    "    data[\"Red defense\"].unique() ,\n",
    "               ]) )"
   ]
  },
  {
   "cell_type": "code",
   "execution_count": 56,
   "metadata": {},
   "outputs": [],
   "source": [
    "env = trueskill.TrueSkill()\n",
    "\n",
    "players = { p: Rating() for p in player_names}"
   ]
  },
  {
   "cell_type": "code",
   "execution_count": 57,
   "metadata": {},
   "outputs": [],
   "source": [
    "for i in range(len(data)):\n",
    "    \n",
    "    if data.iloc[i][\"Blue score\"] > data.iloc[i][\"Red score\"]:\n",
    "        rank = [0,1]\n",
    "    else:\n",
    "        rank = [1,0]\n",
    "        \n",
    "    p1, p2, p3, p4 = [data[\"Blue defense\"].iloc[i], data[\"Blue attack\"].iloc[i], data[\"Red defense\"].iloc[i], data[\"Red attack\"].iloc[i]] \n",
    "    sel = [(players[p1], players[p2]) ,(players[p3], players[p4])] \n",
    "    [(players[p1], players[p2]) ,(players[p3], players[p4])]  =  env.rate(sel, ranks=rank)\n"
   ]
  },
  {
   "cell_type": "code",
   "execution_count": 78,
   "metadata": {},
   "outputs": [
    {
     "name": "stdout",
     "output_type": "stream",
     "text": [
      "Name      | Mu    | Sigma | Score\n",
      "=================================\n",
      "Alex      | 29.92 | 1.43  | 25.64\n",
      "Jeff      | 18.34 | 2.23  | 11.64\n",
      "Jehangir  | 26.73 | 1.66  | 21.77\n",
      "Kareem    | 28.05 | 1.30  | 24.15\n",
      "Karolis   | 23.63 | 1.52  | 19.05\n",
      "Kurt      | 16.71 | 4.38  | 3.56\n",
      "Michael   | 24.43 | 1.46  | 20.06\n",
      "Nik       | 24.55 | 1.50  | 20.05\n",
      "Ryan      | 20.80 | 5.43  | 4.53\n",
      "Ulrich    | 23.73 | 1.82  | 18.26\n",
      "Vlad      | 24.21 | 1.44  | 19.88\n"
     ]
    }
   ],
   "source": [
    "print(\"{0:10}| {1:5} | {2:5} | {3:5}\".format(\"Name\", \"Mu\", \"Sigma\", \"Score\"))\n",
    "print(\"=================================\")\n",
    "\n",
    "for p in players:\n",
    "    print(\"{0:10}| {1:02.2f} | {2:02.2f}  | {3:02.2f}\".format(p, players[p].mu, players[p].sigma, players[p].mu - 3*players[p].sigma))"
   ]
  },
  {
   "cell_type": "code",
   "execution_count": null,
   "metadata": {},
   "outputs": [],
   "source": []
  }
 ],
 "metadata": {
  "kernelspec": {
   "display_name": "Python 3",
   "language": "python",
   "name": "python3"
  },
  "language_info": {
   "codemirror_mode": {
    "name": "ipython",
    "version": 3
   },
   "file_extension": ".py",
   "mimetype": "text/x-python",
   "name": "python",
   "nbconvert_exporter": "python",
   "pygments_lexer": "ipython3",
   "version": "3.6.4"
  }
 },
 "nbformat": 4,
 "nbformat_minor": 2
}
